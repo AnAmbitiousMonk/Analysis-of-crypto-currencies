{
  "nbformat": 4,
  "nbformat_minor": 0,
  "metadata": {
    "colab": {
      "name": "49 Steps Cardano Analysis.ipynb",
      "provenance": [],
      "collapsed_sections": []
    },
    "kernelspec": {
      "name": "python3",
      "display_name": "Python 3"
    },
    "language_info": {
      "name": "python"
    }
  },
  "cells": [
    {
      "cell_type": "markdown",
      "metadata": {
        "id": "jHKvOUQZsJja"
      },
      "source": [
        "## 49 Stepsframework to analyse Cardano"
      ]
    },
    {
      "cell_type": "markdown",
      "metadata": {
        "id": "adCje9WssOLM"
      },
      "source": [
        "###Cryptocurrency Selection to Research\n",
        "Q1-Name of the currency? \n",
        "\n",
        "A- Cardano\n",
        "\n",
        "\n",
        "Q2- What is the report date?\n",
        "\n",
        "A-14/08/2021"
      ]
    },
    {
      "cell_type": "markdown",
      "metadata": {
        "id": "8laBRC-3sOHW"
      },
      "source": [
        "###Price,Restrictions,Purpose,Your Opinion on Long Term Strategy"
      ]
    },
    {
      "cell_type": "markdown",
      "metadata": {
        "id": "gH5lSaRksXx8"
      },
      "source": [
        "Market Capitalization: 64B\n",
        "\n",
        "Cardano Price: $2.12\n",
        "\n",
        "52 Week Low: $0.07\n",
        "\n",
        "52 Week High: $2.46 \n",
        "\n",
        "Country of Origin: Japan\n",
        "\n",
        "Q3- Any Restrictions for Cardano in India?\n",
        "\n",
        "A- No\n",
        "\n",
        "Q4- What is the Brief Purpose of Cardano(What Problem is it Solving)?\n",
        "\n",
        "A- Cardano is a cryptocurrency platform that runs a very secure blockchain for its cryptocurrency, ADA. The only wallet that accepts ADA is called Daedalus.\n",
        "\n",
        "Q5- What is your brief opinion on the long term strategy of cardano?\n",
        "\n",
        "A- If Cardano can successfully integrate the functionality of other coins and plaforms into one entity as it proposes, then it will be able to realize it's potential of becoming the largest cryptocurrency\n"
      ]
    },
    {
      "cell_type": "markdown",
      "metadata": {
        "id": "VtMQL5zSsXu0"
      },
      "source": [
        "###Sources to Read/Review/Research and Stay on Top of: Cardano\n",
        "\n",
        "Q6- Did you go to https://www.google.com/alerts/ and created an alert for cardano?\n",
        "\n",
        "A- Yes\n",
        "\n",
        "Q7- Did u read the cardano whitepaper? If yes mention the link.\n",
        "\n",
        "A- https://whitepaper.io/document/581/cardano-whitepaper\n",
        "\n",
        "Q8- Did you sign up for meetup.com meetings in India for cardano?\n",
        "\n",
        "A- Yes\n",
        "\n",
        "Q9- Do you follow twitter cardano on twitter?\n",
        "\n",
        "A- Yes\n",
        "\n",
        "Q10- Have you tried it?(Bought it or sold in case of ADA)?\n",
        "\n",
        "A- Yes\n",
        "\n",
        "Q11- Have you seen their github?\n",
        "\n",
        "A- https://github.com/input-output-hk/cardano-sl , yes\n",
        "\n",
        "Q12- Have you seen their  reddit?\n",
        "\n",
        "A- https://www.reddit.com/search?q=Cardano , yes\n",
        "\n",
        "Q13- Have you seen their youtube?\n",
        "\n",
        "A- https://www.youtube.com/channel/UCbQ9vGfezru1YRI1zDCtTGg?app=desktop , yes\n",
        "\n",
        "Q14- have you reviewed productsand contents on their websites?\n",
        "\n",
        "A- https://cardano.org/, yes\n",
        "\n",
        "Q15- Have you seen the wiki for cardano?\n",
        "\n",
        "A- https://en.wikipedia.org/wiki/Cardano_(blockchain_platform), yes\n",
        "\n",
        "Q16- Have you seen coindesk for cardano?\n",
        "\n",
        "A- https://www.coindesk.com/?s=cardano\n",
        "\n",
        "Q17- have you seen for googletrendsfor cardano?\n",
        "\n",
        "A- https://trends.google.com/trends/explore?q=Cardano yes"
      ]
    },
    {
      "cell_type": "markdown",
      "metadata": {
        "id": "spGxmePusXao"
      },
      "source": [
        "###Qualitative Investment Research Comments (Background + Pros & Cons)\n",
        "\n",
        "Q18- What is Cardano? This is similar to step 4, with much more detail on the backgroound of the cardano.\n",
        "\n",
        "A- Cardano (or Cardano Settlement Layer) is a fully open source decentralized public blockchain and cryptographic currency designed and developed by IOHK in 2015. Cardano is developing a smart contract platform which aims to provide more cutting edge features than any other protocol created. It is the first blockchain platform to form out of a scientific philosophy and a research-first approach. The team creating Cardano consists of global expert engineers and researchers from the university of edinburgh, the University of Athens and the university of Connecticut.\n",
        " \n",
        "Q19- Why does cardano exist?\n",
        "\n",
        "A- Cardano began as an effort to shift the method in which cryptocurrency are designed and developed. There are three main reasons Cardano was created as follows. 1. TO develop a more successful protocol to improve the layering i nthe design of cryptocurrencies. 2. The team wants to increase the appreciation for cryptographic research since that is their main approach to building cardano. 3. Cardano wants to make accommodation for future updates like soft and hard folks more commomplace since most altcoins fail to do so. Overall, the focus of Cardano is to develop a more equal and sustainable ecosystem that better tends to the needs of it's users and other systems desiring integration. You can think of Cardano as Bitcoin reimagined with the freedom to mend the design flaws of bitcoin.\n",
        "\n",
        "Q20- What are the pros?\n",
        "\n",
        "A- Cardano is completely open-source and is in the business of solving cryptocurrency industry's scalability and democratized voting issues through a smart contract platform that is programmed to be inter-operable with other cryptocurrencies. Adding to the benefits, Cardano is aiming to simplify atomix swaps and remove the neceessity of exchanges. With a world class team including one of the co-founders of Ethereum, Charles Hoskinson, Cardano has a lot of smart academicians, technicians and scholars working on Cardano's technical solutions.\n",
        "\n",
        "Q21- What are the cons?\n",
        "\n",
        "A- The market capitilization of Cardano remains in the top 10 with a circulating supply of around 25 billion coins out of the maximum supply of 45 billion in total, For cardano the biggest disadvantage is the technical hinderance of it's circulating supply. It is likely that there there will be continuous supply at higher leverls. While the benefits and applications of Cardano's technology will be substantial, the large supply of coins pose a considerable constraint on the cryptocurrency."
      ]
    },
    {
      "cell_type": "markdown",
      "metadata": {
        "id": "87oiLH4dsXWH"
      },
      "source": [
        "### Cardano Management Team, INvestors, Developers, Partners, Customers\n",
        "\n",
        "Q22- What is the management team like for Cardano? INclude information like your thoughts on the quality of the CEO, the quality of the developers that work there, the quality of board, the quality of investors etc (check out crunchbase.com and comment on the VC investors if applicable).\n",
        "\n",
        "A- It was built by a former Ethereum executive and now the Cardano Foundation oversees the cardano protocol community and ecosystem. Additionally, the Cardano core team, IOHK, includes crypto veterans and people with strong academic backgrounds in computer science and software engineering. The CEO of IOHK is Charles Hoskinson who used to be the CEO of Ethereum and has a successful track record of running technology companies.\n",
        "\n",
        "Q23- What is the developer community like for Cardano? Include information like do you think they seem committed to improving the cryptocurrency or are they opensource or not, etc.?\n",
        "\n",
        "A- Cardano has a huge developer community and was created in the spirit of collaboration for people to build things together. The Cardano ecosystem is completely open-source and patent free.\n",
        "\n",
        "Q24- Does Cardano have any noteable reference customer or partners (i.e., large companies or government agencies that use or have positive things to say about Cardano?\n",
        "\n",
        "A- Emurgo, SIRIN LABS, and Cardano is officially"
      ]
    },
    {
      "cell_type": "markdown",
      "metadata": {
        "id": "fnmNoEVssXR9"
      },
      "source": [
        "### Cardano Security & Differentiation Versus the Competition\n",
        "\n",
        "Q25- Please comment on the strength of the security of Cardano when compared to other cryptocurrencies.\n",
        "\n",
        "A- Cardano is being built with a layered, modular system which enables apllications on its platform to tailor to the levels of security and privacy/transparency they need. Out of the few decentralized blockhcains that come with strong security features, Cardano in one of them.\n",
        "\n",
        "Q26- How is Cardano different from other cryptocurrencies (in addition in security protocols if applicable)\n",
        "\n",
        "A- Cardano is a platform currency which aims to solve the scalability issues, bug discovery, smart contract code and lack of collaboration that plahues \n",
        "previous generation cryptocurrencies."
      ]
    },
    {
      "cell_type": "markdown",
      "metadata": {
        "id": "PmPlE-82sXN4"
      },
      "source": [
        "### Wallets and Exchanges that support Cardano\n",
        "\n",
        "Q27- Of the 6 exchanges discussed in this course, can you transact in Cardano on all 6 of these exchanges: GDAX, POLONIEX, KRAKEN, BITTREX, GEMINI and BINANCE? If not, which of all the 6 of forementioned exchanges do not currently accept Cardano?\n",
        "\n",
        "A- Only binance and bittrex support Cardano\n",
        "\n",
        "Q28- Of the 8 wallets discused in this course, can you use Cardano with all this 8 these wallets. QR code paper based wallet, trezor, ledger nano S, digitalbitbox, keepkey, coinbase, electrum and blockchain? If not, which of the 8 foremost mentioned wallets do not currently accept cardano?\n",
        "\n",
        "A- Paper based wallets and daedalus wallets\n"
      ]
    },
    {
      "cell_type": "markdown",
      "metadata": {
        "id": "0bNex2MQsXJI"
      },
      "source": [
        "### Current and Maximum supply and date of the maximum supply of Cardano\n",
        "\n",
        "Q29- What is the current supply of shares of Cardano available today?\n",
        "\n",
        "A- 26 billion\n",
        "\n",
        "Q30- What will be the maximum supply of shares of Cardano available and what approximate year will the maximum supply be at (i.e. 2040)?\n",
        "\n",
        "A- 45 billion"
      ]
    },
    {
      "cell_type": "markdown",
      "metadata": {
        "id": "YjvS6WXJsXEr"
      },
      "source": [
        "### Country, accounting and bug risks of investing in cardano?\n",
        "\n",
        "Q31- If applicable, who is the auditor of cardano and are they reputable/well known in their country of origin or country of incorporation?\n",
        "\n",
        "A- FP Complete performed the first ever audit report for Cardano, which focused on the engineeing work completed by the Cardano development tema, IOHK.\n",
        "\n",
        "Q32- Are there any notable country or regulatory risks when it comes to Cardano that might hurt the ability \n",
        "\n",
        "A- Cardano is big on regulatory compliance and outlines this on their website at: https://whycardano.com/regulation\n",
        "\n",
        "Q33- Are there any code bugs for cardano that are a concern for investors?\n",
        "\n",
        "A- Cardano's protocol technology goes through extensive peer review and auditing. And because the code has a better process for verifying that it is being written correctly, it will help repvent bugs and errors, like the one that exposed the DAO Hack of Ethereum."
      ]
    },
    {
      "cell_type": "markdown",
      "metadata": {
        "id": "Wk74ejuHsXAP"
      },
      "source": [
        "### What would make you MUCH MORE or MUCH LESS positive on Cardano?\n",
        "\n",
        "Q34- What would make you MUCH MORE positive on Cardano (meaning what news development, contract, etc would make you much more positive? \n",
        "\n",
        "A- I would be much more positive on Cardano if it were available on more exchanges and had more options for storing ADA.\n",
        "\n",
        "Q35- What would make you MUCH LESS positive on Cardano (meaning what news development, contract, etc, would make you much less positive?\n",
        "\n",
        "A- I would be much less positive on Cardano if their developer community shrunk as they almost have a religious following from their community. Also, I would be much less positive if Cardano's tea, delayed the launch of their proof-of-stake protocol as it will be one of the most crucial parts of the Cardano infrastructure and overall roadmap"
      ]
    },
    {
      "cell_type": "markdown",
      "metadata": {
        "id": "kDAYxnsgsW7h"
      },
      "source": [
        "### Mining incentives, Reddit & Twitter followers of Cardano\n",
        "\n",
        "Q36- Is there an economic incentive for people to improve Cardano?(i.e. through mining?, plz explain)\n",
        "\n",
        "A- Cardano uses Proof of Stake called Quroboros to permit more exotic incentive schemes while increasing scalability capacity and secure voting. Unfortunately, only trusted nodes can do the PoS.\n",
        "\n",
        "Q37- How many Reddit readers does cardano have?\n",
        "\n",
        "A- Cardano has more than 400,000 users\n",
        "\n",
        "Q38- How many twitter readers cardano has?\n",
        "\n",
        "A- 766,000\n",
        "\n",
        "Q39- Same as step 38, just for another social media if that is in your country\n",
        "\n",
        "A- No"
      ]
    },
    {
      "cell_type": "markdown",
      "metadata": {
        "id": "orwVjmEDsWzx"
      },
      "source": [
        "### Quantifying as estimate on the long term target price for cardano\n",
        "\n",
        "In this Step we will make several assumptions for coming up with an approximate long term target price on Cardano. We can answer the questions in 40-43 in order to arrive at a target price based on your assumptions. This is meant as a guideline for one way we can think about quantifying a target price\n",
        "\n",
        "Q40- What % of all the money in the world do you think will be in cryptos in 20 years (we need to think long term when analyzing crypto)? \n",
        "\n",
        "A- 10%,\n",
        "\n",
        "   total supply * 10/100 = 9,000,000,000,000 US dollars will be market cap of entire cryptocurrency market.\n",
        "\n",
        "Q41- What % of that market Cardano will have after 20 years?\n",
        "\n",
        "A- 10%\n",
        "\n",
        "    9,000,000,000,000 * (10/100) = 900,000,000,000 \n",
        "\n",
        "Q42- How many coins cardano will have?\n",
        "\n",
        "A- 45 billion\n",
        "\n",
        "Q43- target price\n",
        "\n",
        "A- $20"
      ]
    },
    {
      "cell_type": "markdown",
      "metadata": {
        "id": "n9YN_eZNsWvS"
      },
      "source": [
        "### Technical analysis for Cardano\n",
        "\n",
        "Q44- Average 3 months volume data?\n",
        "A- 9.91B\n",
        "\n",
        "Note:- Please look at the average 3 months volume of Cardano in the data for step 44 in order to understand if this cryptocurrency is liquid enough for you to easily buy or sell in 1 trading day.\n",
        "\n",
        "In most cases, the cryptocurrency volume is high enough for us to be able to get in or out of withing 1 dat if needed. I want to put this concept on your radar screen now so that you can better assess the volume characteristic if you ever transact in less liquid cryptocurrencies as illiquid investments own us in a bad market.(rather than vice versa)\n",
        "\n",
        "Q45- 52 weeks high data?\n",
        "\n",
        "A- $2.4618\n",
        "\n",
        "Q46- 52 weeks low data?\n",
        "\n",
        "A- $0.0761\n",
        "\n",
        "Q47- What is 60 days moving average data?\n",
        "\n",
        "A- $1.71\n",
        "\n",
        "Q48- What is 180 days moving average price?\n",
        "\n",
        "A- $1.51\n",
        "\n",
        "Q49- What is RSI(Relative strength index)?\n",
        "\n",
        "A- 47\n",
        "\n",
        "RSI ~ 20 --> Buy\n",
        "RSI ~ 80 --> Sell\n"
      ]
    },
    {
      "cell_type": "markdown",
      "metadata": {
        "id": "OqImOMe0sWr9"
      },
      "source": [
        ""
      ]
    },
    {
      "cell_type": "markdown",
      "metadata": {
        "id": "G-C2gDTDsWm8"
      },
      "source": [
        ""
      ]
    },
    {
      "cell_type": "markdown",
      "metadata": {
        "id": "1sTPWOG8sWWN"
      },
      "source": [
        ""
      ]
    },
    {
      "cell_type": "markdown",
      "metadata": {
        "id": "RtX1ZQLwsWSE"
      },
      "source": [
        ""
      ]
    },
    {
      "cell_type": "markdown",
      "metadata": {
        "id": "-V2hq1jOsWN9"
      },
      "source": [
        ""
      ]
    },
    {
      "cell_type": "markdown",
      "metadata": {
        "id": "1_JIvPTdsWKL"
      },
      "source": [
        ""
      ]
    },
    {
      "cell_type": "markdown",
      "metadata": {
        "id": "kfthN0HksWGZ"
      },
      "source": [
        ""
      ]
    },
    {
      "cell_type": "markdown",
      "metadata": {
        "id": "4aHP-ebIsWCG"
      },
      "source": [
        ""
      ]
    },
    {
      "cell_type": "markdown",
      "metadata": {
        "id": "CvCt3CuzsV-b"
      },
      "source": [
        ""
      ]
    },
    {
      "cell_type": "markdown",
      "metadata": {
        "id": "AP_4NHAYsV6T"
      },
      "source": [
        ""
      ]
    },
    {
      "cell_type": "markdown",
      "metadata": {
        "id": "A7xw_aYusV2I"
      },
      "source": [
        ""
      ]
    },
    {
      "cell_type": "markdown",
      "metadata": {
        "id": "E9osuXOAsVyO"
      },
      "source": [
        ""
      ]
    },
    {
      "cell_type": "markdown",
      "metadata": {
        "id": "2h-HEcPKsVti"
      },
      "source": [
        ""
      ]
    },
    {
      "cell_type": "markdown",
      "metadata": {
        "id": "CvaFVSSNsVpW"
      },
      "source": [
        ""
      ]
    },
    {
      "cell_type": "markdown",
      "metadata": {
        "id": "poWie37dsVIT"
      },
      "source": [
        ""
      ]
    },
    {
      "cell_type": "markdown",
      "metadata": {
        "id": "34NIyBVgsVDF"
      },
      "source": [
        ""
      ]
    },
    {
      "cell_type": "markdown",
      "metadata": {
        "id": "UdvyPmIlsU94"
      },
      "source": [
        ""
      ]
    },
    {
      "cell_type": "markdown",
      "metadata": {
        "id": "vBiNYhqwsU49"
      },
      "source": [
        ""
      ]
    },
    {
      "cell_type": "markdown",
      "metadata": {
        "id": "zi9xzwodsU0U"
      },
      "source": [
        ""
      ]
    },
    {
      "cell_type": "markdown",
      "metadata": {
        "id": "6Zx7pc2ssUwP"
      },
      "source": [
        ""
      ]
    },
    {
      "cell_type": "markdown",
      "metadata": {
        "id": "AxJ3DQpwsUrA"
      },
      "source": [
        ""
      ]
    },
    {
      "cell_type": "markdown",
      "metadata": {
        "id": "asCULsxDsUmz"
      },
      "source": [
        ""
      ]
    },
    {
      "cell_type": "markdown",
      "metadata": {
        "id": "bvPUNRTSsUiB"
      },
      "source": [
        ""
      ]
    },
    {
      "cell_type": "markdown",
      "metadata": {
        "id": "viwhrq3HsUdF"
      },
      "source": [
        ""
      ]
    },
    {
      "cell_type": "markdown",
      "metadata": {
        "id": "VzxuEY5fsUYh"
      },
      "source": [
        ""
      ]
    },
    {
      "cell_type": "markdown",
      "metadata": {
        "id": "f6AtZqdcsUSx"
      },
      "source": [
        ""
      ]
    },
    {
      "cell_type": "markdown",
      "metadata": {
        "id": "LxRa761msTk-"
      },
      "source": [
        ""
      ]
    },
    {
      "cell_type": "markdown",
      "metadata": {
        "id": "6IG5AqmdsOFp"
      },
      "source": [
        ""
      ]
    },
    {
      "cell_type": "markdown",
      "metadata": {
        "id": "vu0oUQjhsOCA"
      },
      "source": [
        ""
      ]
    },
    {
      "cell_type": "markdown",
      "metadata": {
        "id": "z1ypnCQysOAq"
      },
      "source": [
        ""
      ]
    },
    {
      "cell_type": "markdown",
      "metadata": {
        "id": "XRNdK2igsN8w"
      },
      "source": [
        ""
      ]
    },
    {
      "cell_type": "markdown",
      "metadata": {
        "id": "j8HqyAjZsN7K"
      },
      "source": [
        ""
      ]
    },
    {
      "cell_type": "markdown",
      "metadata": {
        "id": "8_mUq5z3sN2v"
      },
      "source": [
        ""
      ]
    },
    {
      "cell_type": "markdown",
      "metadata": {
        "id": "rYO2VReEsN06"
      },
      "source": [
        ""
      ]
    },
    {
      "cell_type": "markdown",
      "metadata": {
        "id": "9PSq4kc4sNYI"
      },
      "source": [
        ""
      ]
    },
    {
      "cell_type": "markdown",
      "metadata": {
        "id": "LxwPf0JlsG21"
      },
      "source": [
        ""
      ]
    }
  ]
}